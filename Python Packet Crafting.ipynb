{
 "cells": [
  {
   "cell_type": "markdown",
   "id": "933b59c6-a951-4cf4-9811-f9ae515153ee",
   "metadata": {},
   "source": [
    "# Task 1 Embedded Connectivity"
   ]
  },
  {
   "cell_type": "markdown",
   "id": "2a1acd04-9fe1-4209-bdf7-d89eb1d513a1",
   "metadata": {},
   "source": [
    "## Scapy importieren und Schnittstellen anzeigen"
   ]
  },
  {
   "cell_type": "code",
   "execution_count": 2,
   "id": "5b27d68d-f765-4d4b-897d-8ac2389f14ef",
   "metadata": {},
   "outputs": [
    {
     "name": "stdout",
     "output_type": "stream",
     "text": [
      "Source   Index  Name                                       MAC                IPv4            IPv6                     \n",
      "libpcap  1      Software Loopback Interface 1              00:00:00:00:00:00  127.0.0.1       ::1                      \n",
      "libpcap  10     Microsoft Wi-Fi Direct Virtual Adapter #2  02:41:0e:bf:90:d3  169.254.206.44  fe80::4220:8491:ae37:98c0\n",
      "libpcap  11     Realtek PCIe GbE Family Controller         74:5d:22:4c:e0:d0  169.254.59.239  fe80::25fb:c1d3:e568:14c9\n",
      "libpcap  12     WAN Miniport (IPv6)                                                                                    \n",
      "libpcap  16     WAN Miniport (IP)                                                                                      \n",
      "libpcap  17     RZ616 Wi-Fi 6E 160MHz                      00:41:0e:bf:a0:e3  172.23.1.109    fe80::e2b7:c089:84e8:560b\n",
      "libpcap  18     WAN Miniport (Network Monitor)                                                                         \n",
      "libpcap  4      Microsoft Wi-Fi Direct Virtual Adapter     02:41:0e:bf:80:c3  169.254.20.252  fe80::a382:b896:d71a:723f\n"
     ]
    }
   ],
   "source": [
    "import scapy.all as sc   # Scapy importieren\n",
    "import time\n",
    "print(sc.ifaces)         # Interfaces anzeigen"
   ]
  },
  {
   "cell_type": "markdown",
   "id": "da986858-182f-4774-a42a-8f5f105daf5c",
   "metadata": {},
   "source": [
    "## Packet laden und anzeigen lassen"
   ]
  },
  {
   "cell_type": "code",
   "execution_count": 4,
   "id": "410743cd-9020-46d9-878f-ecf9fb53d0b9",
   "metadata": {},
   "outputs": [
    {
     "name": "stdout",
     "output_type": "stream",
     "text": [
      "###[ Ethernet ]### \n",
      "  dst       = f6:05:79:29:c8:89\n",
      "  src       = 80:a6:54:96:8e:3e\n",
      "  type      = IPv4\n",
      "###[ IP ]### \n",
      "     version   = 4\n",
      "     ihl       = 5\n",
      "     tos       = 0x0\n",
      "     len       = 38\n",
      "     id        = 1\n",
      "     flags     = \n",
      "     frag      = 0\n",
      "     ttl       = 255\n",
      "     proto     = udp\n",
      "     chksum    = 0x372d\n",
      "     src       = 192.168.1.10\n",
      "     dst       = 192.168.1.100\n",
      "     \\options   \\\n",
      "###[ UDP ]### \n",
      "        sport     = 28288\n",
      "        dport     = 28238\n",
      "        len       = 18\n",
      "        chksum    = 0x0\n",
      "###[ Raw ]### \n",
      "           load      = '\\\\x81\\x04\\x00\\x12\\\\xc0\\\\xa8\\x03<\\\\xba\\\\xc0'\n",
      "\n",
      "None\n"
     ]
    }
   ],
   "source": [
    "packet_location = r\"C:\\Users\\valen\\Downloads\\Aufgabe_Packet_Crafting.pcap\"   # Speicerort Ort der Pcap Datei\n",
    "packet_pcap = sc.rdpcap(packet_location)[0]                                       # Erstes Packet der Pcap Datei laden\n",
    "print(packet_pcap.show())                                                         # Packet anzeigen"
   ]
  },
  {
   "cell_type": "markdown",
   "id": "639e3dc4-ee78-4c21-a350-c706a13169c2",
   "metadata": {},
   "source": [
    "## Packet nachbauen und anzeigen lassen"
   ]
  },
  {
   "cell_type": "code",
   "execution_count": 5,
   "id": "fcb16e8f-a0f5-49a6-aa3d-c98aafc8cdf4",
   "metadata": {},
   "outputs": [
    {
     "name": "stdout",
     "output_type": "stream",
     "text": [
      "###[ Ethernet ]### \n",
      "  dst       = 02:41:0e:bf:80:c3\n",
      "  src       = 80:a6:54:96:8e:3e\n",
      "  type      = IPv4\n",
      "###[ IP ]### \n",
      "     version   = 4\n",
      "     ihl       = 5\n",
      "     tos       = 0x0\n",
      "     len       = 38\n",
      "     id        = 1\n",
      "     flags     = \n",
      "     frag      = 0\n",
      "     ttl       = 255\n",
      "     proto     = udp\n",
      "     chksum    = 0x372d\n",
      "     src       = 192.168.1.10\n",
      "     dst       = 192.168.1.100\n",
      "     \\options   \\\n",
      "###[ UDP ]### \n",
      "        sport     = 28288\n",
      "        dport     = 28238\n",
      "        len       = 18\n",
      "        chksum    = 0x0\n",
      "###[ Raw ]### \n",
      "           load      = '\\\\x81\\x04\\x00\\x12\\\\xc0\\\\xa8\\x03<\\\\xba\\\\xc0'\n",
      "\n",
      "None\n"
     ]
    }
   ],
   "source": [
    "#----------------------------------------\n",
    "# Ethernet Frame\n",
    "#----------------------------------------\n",
    "\n",
    "Ethernet_fr = sc.Ether()\n",
    "Ethernet_fr.dst = \"02:41:0e:bf:80:c3\"    # MAC WLAN Schnittstelle\n",
    "Ethernet_fr.src = \"80:a6:54:96:8e:3e\"    \n",
    "Ethernet_fr.type = \"IPv4\"\n",
    "\n",
    "#----------------------------------------\n",
    "# IP Frame\n",
    "#----------------------------------------\n",
    "\n",
    "IP_fr = sc.IP()\n",
    "IP_fr.version   = 4\n",
    "IP_fr.ihl       = 5\n",
    "IP_fr.tos       = 0x0\n",
    "IP_fr.len       = 38\n",
    "IP_fr.id        = 1\n",
    "IP_fr.frag      = 0\n",
    "IP_fr.ttl       = 255\n",
    "IP_fr.proto     = \"udp\"\n",
    "IP_fr.chksum    = 0x372d\n",
    "IP_fr.src       = \"192.168.1.10\"\n",
    "IP_fr.dst       = \"192.168.1.100\"\n",
    "\n",
    "#----------------------------------------\n",
    "# UDP Frame\n",
    "#----------------------------------------\n",
    "\n",
    "UDP_fr = sc.UDP()\n",
    "UDP_fr.sport     = 28288\n",
    "UDP_fr.dport     = 28238\n",
    "UDP_fr.len       = 18\n",
    "UDP_fr.chksum    = 0x0\n",
    "\n",
    "#----------------------------------------\n",
    "# Load\n",
    "#----------------------------------------\n",
    "\n",
    "Load = sc.Raw()\n",
    "Load.load = bytes.fromhex(\"81040012c0a8033cbac0\")\n",
    "\n",
    "packet = Ethernet_fr/IP_fr/UDP_fr/Load\n",
    "\n",
    "print(packet.show())\n"
   ]
  },
  {
   "cell_type": "markdown",
   "id": "f6be5ea4-66ac-42e3-9122-5d8f0fe52ba7",
   "metadata": {},
   "source": [
    "## Packet Senden\n",
    "### 5mal alle Zwei Sekunden Packet senden"
   ]
  },
  {
   "cell_type": "code",
   "execution_count": 6,
   "id": "71ce6ac5-1f66-46b7-8176-6292e698d60d",
   "metadata": {},
   "outputs": [
    {
     "name": "stdout",
     "output_type": "stream",
     "text": [
      "\n",
      "Sent 1 packets.\n",
      "\n",
      "Sent 1 packets.\n",
      "\n",
      "Sent 1 packets.\n",
      "\n",
      "Sent 1 packets.\n",
      "\n",
      "Sent 1 packets.\n"
     ]
    }
   ],
   "source": [
    "for i in range(5):\n",
    "    sc.sendp(packet)\n",
    "    time.sleep(2)"
   ]
  },
  {
   "cell_type": "code",
   "execution_count": null,
   "id": "1e1ae925-84d1-4235-8bb0-917b198178f6",
   "metadata": {},
   "outputs": [],
   "source": []
  }
 ],
 "metadata": {
  "kernelspec": {
   "display_name": "Python 3 (ipykernel)",
   "language": "python",
   "name": "python3"
  },
  "language_info": {
   "codemirror_mode": {
    "name": "ipython",
    "version": 3
   },
   "file_extension": ".py",
   "mimetype": "text/x-python",
   "name": "python",
   "nbconvert_exporter": "python",
   "pygments_lexer": "ipython3",
   "version": "3.12.2"
  }
 },
 "nbformat": 4,
 "nbformat_minor": 5
}
